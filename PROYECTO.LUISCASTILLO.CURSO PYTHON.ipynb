{
 "cells": [
  {
   "cell_type": "code",
   "execution_count": 7,
   "id": "de186702",
   "metadata": {},
   "outputs": [
    {
     "name": "stdout",
     "output_type": "stream",
     "text": [
      "            Date    Open    High     Low  Close* Adj Close**     Volume\n",
      "0   Oct 31, 2022  153.15  154.15  151.93  153.51      153.51   60750282\n",
      "1   Oct 28, 2022  148.20  157.50  147.82  155.74      155.74  164659100\n",
      "2   Oct 27, 2022  148.07  149.05  144.13  144.80      144.80  109180200\n",
      "3   Oct 26, 2022  150.96  151.99  148.04  149.35      149.35   88194300\n",
      "4   Oct 25, 2022  150.09  152.49  149.36  152.34      152.34   74732300\n",
      "..           ...     ...     ...     ...     ...         ...        ...\n",
      "95  Jun 16, 2022  132.08  132.39  129.04  130.06      129.88  108123900\n",
      "96  Jun 15, 2022  134.29  137.34  132.16  135.43      135.24   91533000\n",
      "97  Jun 14, 2022  133.13  133.89  131.48  132.76      132.58   84784300\n",
      "98  Jun 13, 2022  132.87  135.20  131.44  131.88      131.70  122207100\n",
      "99  Jun 10, 2022  140.28  140.76  137.06  137.13      136.94   91437900\n",
      "\n",
      "[99 rows x 7 columns]\n"
     ]
    }
   ],
   "source": [
    "import pandas as pd\n",
    "import requests\n",
    "import numpy as np\n",
    "\n",
    "ticker = \"AAPL\"\n",
    "\n",
    "\n",
    "def getdata(url):\n",
    "  r = requests.get(url,headers ={'User-Agent':'Mozilla/5.0 (Windows NT 10.0; Win64; x64) AppleWebKit/537.36 (KHTML, like Gecko) Chrome/91.0.4472.124 Safari/537.36'})\n",
    "  data = pd.read_html(r.text)\n",
    "  return data\n",
    "\n",
    "summary_url = f'https://finance.yahoo.com/quote/{ticker}?p={ticker}'\n",
    "summary_data = getdata(summary_url)\n",
    "\n",
    "\n",
    "data = [summary_data[0], summary_data[1]]\n",
    "data = pd.concat(summary_data)\n",
    "data.reset_index(drop=True, inplace=True)\n",
    "\n",
    "df = data.transpose()\n",
    "df.columns = df.iloc[0]\n",
    "df = df.drop(0)\n",
    "df = df.reset_index(drop=True)\n",
    "\n",
    "historiscal_url= f'https://finance.yahoo.com/quote/{ticker}/history?p={ticker}'\n",
    "historiscal_data = getdata(historiscal_url)\n",
    "data = historiscal_data[0]\n",
    "\n",
    "data = data.iloc[:-1 , :]\n",
    "\n",
    "data = data[data[\"Open\"].str.contains(\"Dividend\") == False]\n",
    "\n",
    "print(data)"
   ]
  },
  {
   "cell_type": "code",
   "execution_count": 12,
   "id": "00949f8b",
   "metadata": {},
   "outputs": [
    {
     "name": "stdout",
     "output_type": "stream",
     "text": [
      "Requirement already satisfied: pandas in c:\\users\\yunan\\anaconda3\\lib\\site-packages (1.4.2)\n",
      "Collecting yfinance\n",
      "  Downloading yfinance-0.1.84-py2.py3-none-any.whl (29 kB)\n",
      "Requirement already satisfied: matplotlib in c:\\users\\yunan\\anaconda3\\lib\\site-packages (3.5.1)\n",
      "Requirement already satisfied: pytz>=2020.1 in c:\\users\\yunan\\anaconda3\\lib\\site-packages (from pandas) (2021.3)\n",
      "Requirement already satisfied: python-dateutil>=2.8.1 in c:\\users\\yunan\\anaconda3\\lib\\site-packages (from pandas) (2.8.2)\n",
      "Requirement already satisfied: numpy>=1.18.5 in c:\\users\\yunan\\anaconda3\\lib\\site-packages (from pandas) (1.21.5)\n",
      "Requirement already satisfied: requests>=2.26 in c:\\users\\yunan\\anaconda3\\lib\\site-packages (from yfinance) (2.27.1)\n",
      "Requirement already satisfied: appdirs>=1.4.4 in c:\\users\\yunan\\anaconda3\\lib\\site-packages (from yfinance) (1.4.4)\n",
      "Collecting multitasking>=0.0.7\n",
      "  Downloading multitasking-0.0.11-py3-none-any.whl (8.5 kB)\n",
      "Requirement already satisfied: lxml>=4.5.1 in c:\\users\\yunan\\anaconda3\\lib\\site-packages (from yfinance) (4.8.0)\n",
      "Requirement already satisfied: kiwisolver>=1.0.1 in c:\\users\\yunan\\anaconda3\\lib\\site-packages (from matplotlib) (1.3.2)\n",
      "Requirement already satisfied: packaging>=20.0 in c:\\users\\yunan\\anaconda3\\lib\\site-packages (from matplotlib) (21.3)\n",
      "Requirement already satisfied: pyparsing>=2.2.1 in c:\\users\\yunan\\anaconda3\\lib\\site-packages (from matplotlib) (3.0.4)\n",
      "Requirement already satisfied: fonttools>=4.22.0 in c:\\users\\yunan\\anaconda3\\lib\\site-packages (from matplotlib) (4.25.0)\n",
      "Requirement already satisfied: cycler>=0.10 in c:\\users\\yunan\\anaconda3\\lib\\site-packages (from matplotlib) (0.11.0)\n",
      "Requirement already satisfied: pillow>=6.2.0 in c:\\users\\yunan\\anaconda3\\lib\\site-packages (from matplotlib) (9.0.1)\n",
      "Requirement already satisfied: six>=1.5 in c:\\users\\yunan\\anaconda3\\lib\\site-packages (from python-dateutil>=2.8.1->pandas) (1.16.0)\n",
      "Requirement already satisfied: charset-normalizer~=2.0.0 in c:\\users\\yunan\\anaconda3\\lib\\site-packages (from requests>=2.26->yfinance) (2.0.4)\n",
      "Requirement already satisfied: urllib3<1.27,>=1.21.1 in c:\\users\\yunan\\anaconda3\\lib\\site-packages (from requests>=2.26->yfinance) (1.26.9)\n",
      "Requirement already satisfied: idna<4,>=2.5 in c:\\users\\yunan\\anaconda3\\lib\\site-packages (from requests>=2.26->yfinance) (3.3)\n",
      "Requirement already satisfied: certifi>=2017.4.17 in c:\\users\\yunan\\anaconda3\\lib\\site-packages (from requests>=2.26->yfinance) (2021.10.8)\n",
      "Installing collected packages: multitasking, yfinance\n",
      "Successfully installed multitasking-0.0.11 yfinance-0.1.84\n"
     ]
    }
   ],
   "source": [
    "!pip install pandas yfinance matplotlib"
   ]
  },
  {
   "cell_type": "code",
   "execution_count": 13,
   "id": "d5d95c6a",
   "metadata": {},
   "outputs": [
    {
     "name": "stdout",
     "output_type": "stream",
     "text": [
      "Cual es el crecimiento revenueGrowth ?\n",
      "0    0.106\n",
      "dtype: float64\n",
      "\n",
      "Cual es la ganancia neta grossProfits?\n",
      "0    135620000000\n",
      "dtype: int64\n"
     ]
    }
   ],
   "source": [
    "import pandas as pd\n",
    "import requests\n",
    "import numpy as np\n",
    "\n",
    "ticker = \"MSFT\"\n",
    "\n",
    "import yfinance as yf\n",
    "msft = yf.Ticker(\"MSFT\")\n",
    "ticker = \"MSFT\"\n",
    "msft = yf.Ticker(ticker)\n",
    "data=msft.info\n",
    "print(\"Cual es el crecimiento revenueGrowth ?\")\n",
    "print(pd.Series([data[\"revenueGrowth\"]]))\n",
    "print(\"\")\n",
    "print(\"Cual es la ganancia neta grossProfits?\")\n",
    "a=pd.Series([data[\"grossProfits\"]])\n",
    "print(a)"
   ]
  },
  {
   "cell_type": "code",
   "execution_count": null,
   "id": "f2beba0e",
   "metadata": {},
   "outputs": [],
   "source": []
  }
 ],
 "metadata": {
  "kernelspec": {
   "display_name": "Python 3 (ipykernel)",
   "language": "python",
   "name": "python3"
  },
  "language_info": {
   "codemirror_mode": {
    "name": "ipython",
    "version": 3
   },
   "file_extension": ".py",
   "mimetype": "text/x-python",
   "name": "python",
   "nbconvert_exporter": "python",
   "pygments_lexer": "ipython3",
   "version": "3.9.12"
  }
 },
 "nbformat": 4,
 "nbformat_minor": 5
}
