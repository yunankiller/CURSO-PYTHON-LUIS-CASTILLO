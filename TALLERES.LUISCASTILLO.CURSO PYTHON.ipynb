{
 "cells": [
  {
   "cell_type": "markdown",
   "id": "97e17bf9",
   "metadata": {},
   "source": [
    "# TALLER 1.1"
   ]
  },
  {
   "cell_type": "markdown",
   "id": "5761785d",
   "metadata": {},
   "source": [
    "1. Escribe un programa en Python para imprimir la siguiente cadena en un formato específico (ver la salida). Ir al editor\n",
    "Cadena de ejemplo : \"Brilla, brilla, estrellita, ¡Cómo me pregunto qué eres! Por encima del mundo tan alto, Como un diamante en el cielo. Twinkle, twinkle, little star, How I wonder what you are\" Salida :\n",
    "\n",
    "Twinkle, twinkle, little star,\n",
    "    How I wonder what you are! \n",
    "    \tUp above the world so high,   \t\t\n",
    "    \tLike a diamond in the sky. \n",
    "Twinkle, twinkle, little star, \n",
    "    How I wonder what you are"
   ]
  },
  {
   "cell_type": "code",
   "execution_count": 10,
   "id": "4792131f",
   "metadata": {},
   "outputs": [
    {
     "name": "stdout",
     "output_type": "stream",
     "text": [
      "Brilla, brilla, estrellita,\n",
      "   ¡Cómo me pregunto qué eres!\n",
      "     Por encima del mundo tan alto,\n",
      "     Como un diamante en el cielo.\n",
      " Twinkle, twinkle, little star,\n",
      "   How I wonder what you are\n"
     ]
    }
   ],
   "source": [
    "print(\"Brilla, brilla, estrellita,\\n   ¡Cómo me pregunto qué eres!\\n     Por encima del mundo tan alto,\\n     Como un diamante en el cielo.\\n Twinkle, twinkle, little star,\\n   How I wonder what you are\")"
   ]
  },
  {
   "cell_type": "markdown",
   "id": "a5217c42",
   "metadata": {},
   "source": [
    "2. Escribe un programa en Python para mostrar la fecha y la hora que lees en tu pantalla."
   ]
  },
  {
   "cell_type": "code",
   "execution_count": 12,
   "id": "4d266138",
   "metadata": {},
   "outputs": [
    {
     "name": "stdout",
     "output_type": "stream",
     "text": [
      "2022-10-30 23:08:35.023386\n"
     ]
    }
   ],
   "source": [
    "import datetime\n",
    "hora=datetime.datetime.now()\n",
    "\n",
    "print(hora)"
   ]
  },
  {
   "cell_type": "markdown",
   "id": "0b303396",
   "metadata": {},
   "source": [
    "3. Escribir un programa en Python que acepte la base y la altura de un triángulo y calcule el área"
   ]
  },
  {
   "cell_type": "code",
   "execution_count": 16,
   "id": "222b11c1",
   "metadata": {},
   "outputs": [
    {
     "name": "stdout",
     "output_type": "stream",
     "text": [
      "Digite la base del triangulo: 23\n",
      "Digite la altura del triangulo: 45\n",
      "El area del triangulo es:  517.5\n"
     ]
    }
   ],
   "source": [
    "base=float(input(\"Digite la base del triangulo: \"))\n",
    "altura=float(input(\"Digite la altura del triangulo: \"))\n",
    "area=(base*altura)/2\n",
    "\n",
    "print(\"El area del triangulo es: \",area)"
   ]
  },
  {
   "cell_type": "markdown",
   "id": "5550e027",
   "metadata": {},
   "source": [
    "4.Escribe un programa en Python que acepte el nombre y el apellido del usuario y los imprima en orden inverso con un espacio entre ellos."
   ]
  },
  {
   "cell_type": "code",
   "execution_count": 33,
   "id": "1029f9c0",
   "metadata": {},
   "outputs": [
    {
     "name": "stdout",
     "output_type": "stream",
     "text": [
      "Digite el nombre : Luis\n",
      "Digite el apellido: Castillo\n",
      "ollitsaC siuL\n",
      "siuL ollitsaC\n"
     ]
    }
   ],
   "source": [
    "nombre=input(\"Digite el nombre : \")\n",
    "apellido=input(\"Digite el apellido: \")\n",
    "\n",
    "nombre_apellido=nombre+\" \"+apellido\n",
    "    \n",
    "print ((nombre_apellido)[::-1])\n",
    "print ((nombre)[::-1]+\" \"+(apellido)[::-1])\n"
   ]
  },
  {
   "cell_type": "markdown",
   "id": "8a336b0e",
   "metadata": {},
   "source": [
    "# TALLER 1.2"
   ]
  },
  {
   "cell_type": "markdown",
   "id": "0ae884e8",
   "metadata": {},
   "source": [
    "1.¿Qué número entero representa el hexadecimal 0x1c ?"
   ]
  },
  {
   "cell_type": "code",
   "execution_count": 50,
   "id": "f750c6b6",
   "metadata": {},
   "outputs": [
    {
     "name": "stdout",
     "output_type": "stream",
     "text": [
      "28\n"
     ]
    }
   ],
   "source": [
    "#REPRESENTA EL NUMERO 28\n",
    "a=int(0x1c)\n",
    "print(a)"
   ]
  },
  {
   "cell_type": "markdown",
   "id": "31c79a5f",
   "metadata": {},
   "source": [
    "2.¿Cuál es el tipo de dato de 8.1238812?"
   ]
  },
  {
   "cell_type": "code",
   "execution_count": 48,
   "id": "e2a68f3d",
   "metadata": {},
   "outputs": [
    {
     "name": "stdout",
     "output_type": "stream",
     "text": [
      "<class 'float'>\n"
     ]
    }
   ],
   "source": [
    "#ES FLOAT\n",
    "print(type(8.1238812))"
   ]
  },
  {
   "cell_type": "markdown",
   "id": "74dcd7a7",
   "metadata": {},
   "source": [
    "3.¿Cual es el tipo de dato de un emoji '😊'?"
   ]
  },
  {
   "cell_type": "code",
   "execution_count": 47,
   "id": "37f68de6",
   "metadata": {},
   "outputs": [
    {
     "name": "stdout",
     "output_type": "stream",
     "text": [
      "<class 'str'>\n",
      "😊\n"
     ]
    }
   ],
   "source": [
    "#ES UN STRING\n",
    "a='😊'\n",
    "print(type(a))"
   ]
  },
  {
   "cell_type": "markdown",
   "id": "c4c50e37",
   "metadata": {},
   "source": [
    "4.¿Porque el numero octal 0o8 esta mal escrito?"
   ]
  },
  {
   "cell_type": "code",
   "execution_count": 41,
   "id": "f0bfb67b",
   "metadata": {},
   "outputs": [],
   "source": [
    "#PORQUE EL RANGO DE LOS NUMEROS OCTALES ES DE 0 a 7."
   ]
  },
  {
   "cell_type": "markdown",
   "id": "628bf9f0",
   "metadata": {},
   "source": [
    "5.¿Que tipo de dato es False?"
   ]
  },
  {
   "cell_type": "code",
   "execution_count": 36,
   "id": "f2e11665",
   "metadata": {},
   "outputs": [
    {
     "name": "stdout",
     "output_type": "stream",
     "text": [
      "<class 'bool'>\n"
     ]
    }
   ],
   "source": [
    "#ES FALSO\n",
    "print(type(False))"
   ]
  },
  {
   "cell_type": "markdown",
   "id": "90e1cc03",
   "metadata": {},
   "source": [
    "# TALLER 1.4"
   ]
  },
  {
   "cell_type": "markdown",
   "id": "e9316799",
   "metadata": {},
   "source": [
    "1.Escribe un programa en Python para convertir temperaturas a y desde celsius, fahrenheit.\n",
    "[Fórmula : c/5 = f-32/9 [ donde c = temperatura en celsius y f = temperatura en fahrenheit ]\n",
    "\n",
    "Resultado esperado : 60°C es 140 en Fahrenheit 45°F es 7 en Celsius"
   ]
  },
  {
   "cell_type": "code",
   "execution_count": 3,
   "id": "199c0362",
   "metadata": {},
   "outputs": [
    {
     "name": "stdout",
     "output_type": "stream",
     "text": [
      "Digite grados celsius: 60\n",
      "Digite grados fahrenheit: 45\n",
      "60.0 °C es  140.0 °F\n",
      "45.0 °F es  7.0 °C\n"
     ]
    }
   ],
   "source": [
    "c=float(input(\"Digite grados celsius: \"))\n",
    "f=float(input(\"Digite grados fahrenheit: \"))\n",
    "cr=round((f-32)*5/9,0)\n",
    "fr=round((c*9/5)+32,0)\n",
    "\n",
    "print(c,\"°C es \",fr,\"°F\")\n",
    "print(f,\"°F es \",cr,\"°C\")"
   ]
  },
  {
   "cell_type": "markdown",
   "id": "af41dc2a",
   "metadata": {},
   "source": [
    "2.Escribe un programa en Python para calcular la edad de un perro en años de perro\n",
    "Nota: Durante los dos primeros años, un año canino equivale a 10,5 años humanos. Después, cada año canino equivale a 4 años humanos. Resultado esperado:\n",
    "\n",
    "Introduzca la edad de un perro en años humanos: 15\n",
    "La edad del perro en años de perro es 73"
   ]
  },
  {
   "cell_type": "code",
   "execution_count": 16,
   "id": "7380703b",
   "metadata": {},
   "outputs": [
    {
     "name": "stdout",
     "output_type": "stream",
     "text": [
      "Digite los años humanos: 15\n",
      "15 años humanos son  73 años perro\n"
     ]
    }
   ],
   "source": [
    "años=int(input(\"Digite los años humanos: \"))\n",
    "edad_perro=0\n",
    "cont=0\n",
    "if(a>1):\n",
    "    edad_perro+=21\n",
    "for a in range(años):   \n",
    "    if(a>=2):\n",
    "        cont+=4\n",
    "\n",
    "edad_perro=edad_perro+cont\n",
    "\n",
    "print(años,\"años humanos son \",edad_perro,\"años perro\")\n",
    "    \n",
    "    "
   ]
  },
  {
   "cell_type": "markdown",
   "id": "01b83316",
   "metadata": {},
   "source": [
    "3.Escribe un programa en Python para comprobar si un alfabeto es una vocal o una consonante\n",
    "Salida esperada:\n",
    "\n",
    "Introduce una letra del alfabeto: k\n",
    "\n",
    "k es una consonante."
   ]
  },
  {
   "cell_type": "code",
   "execution_count": 23,
   "id": "b0e521b9",
   "metadata": {},
   "outputs": [
    {
     "name": "stdout",
     "output_type": "stream",
     "text": [
      "Digite una letra: k\n",
      "k Es una consonante\n"
     ]
    }
   ],
   "source": [
    "letra=input(\"Digite una letra: \")\n",
    "if(letra=='a'or letra=='e'or letra=='i'or letra=='o'or letra=='u'\n",
    "  or letra=='A'or letra=='E'or letra=='I'or letra=='O'or letra=='U'):\n",
    "    print(letra+\" Es una vocal\")\n",
    "else:\n",
    "    print(letra+\" Es una consonante\")"
   ]
  },
  {
   "cell_type": "markdown",
   "id": "e59d11f3",
   "metadata": {},
   "source": [
    "4.Escribe un programa en Python para convertir el nombre del mes en un número de días\n",
    "Salida esperada:\n",
    "\n",
    "Lista de meses: Enero, Febrero, Marzo, Abril, Mayo, Junio, Julio, Agosto , septiembre, octubre, noviembre, diciembre\n",
    "Introduzca el nombre del mes: Febrero\n",
    "Número de días: 28/29 días"
   ]
  },
  {
   "cell_type": "code",
   "execution_count": 24,
   "id": "f55a94c8",
   "metadata": {},
   "outputs": [],
   "source": [
    "list_meses=[\"Enero\", \"Febrero\", \"Marzo\", \"Abril\", \"Mayo\", \"Junio\", \"Julio\", \"Agosto\" , \"septiembre\", \"octubre\", \"noviembre\", \"diciembre\"]"
   ]
  },
  {
   "cell_type": "code",
   "execution_count": 31,
   "id": "72bbb742",
   "metadata": {},
   "outputs": [
    {
     "name": "stdout",
     "output_type": "stream",
     "text": [
      "Lista de meses: Enero, Febrero, Marzo, Abril, Mayo, Junio, Julio, Agosto , Septiembre, Octubre, Noviembre, Diciembre\n",
      "Introduzca el nombre del mes: Enero\n",
      "Numero de dias:  31 dias\n"
     ]
    }
   ],
   "source": [
    "print(\"Lista de meses: Enero, Febrero, Marzo, Abril, Mayo, Junio, Julio, Agosto , Septiembre, Octubre, Noviembre, Diciembre\")\n",
    "mes=input(\"Introduzca el nombre del mes: \")\n",
    "if(mes==\"Enero\"):\n",
    "    dias=31\n",
    "elif(mes==\"Febrero\"):\n",
    "    dias=28\n",
    "elif(mes==\"Marzo\"):\n",
    "    dias=31\n",
    "elif(mes==\"Abril\"):\n",
    "    dias=30\n",
    "elif(mes==\"Mayo\"):\n",
    "    dias=31\n",
    "elif(mes==\"Junio\"):\n",
    "    dias=30\n",
    "elif(mes==\"Julio\"):\n",
    "    dias=31\n",
    "elif(mes==\"Agosto\"):\n",
    "    dias=30\n",
    "elif(mes==\"Septiembre\"):\n",
    "    dias=31\n",
    "if(mes==\"Octubre\"):\n",
    "    dias=30\n",
    "if(mes==\"Noviembre\"):\n",
    "    dias=31\n",
    "if(mes==\"Diciembre\"):\n",
    "    dias=30\n",
    "print(\"Numero de dias: \",dias,\"dias\")\n",
    "\n"
   ]
  },
  {
   "cell_type": "markdown",
   "id": "635cc0bc",
   "metadata": {},
   "source": [
    "# TALLER 1.5"
   ]
  },
  {
   "cell_type": "markdown",
   "id": "e387e9c4",
   "metadata": {},
   "source": [
    "1.Escribe un programa en Python para encontrar aquellos números que sean divisibles por 7 y múltiplo de 5, entre 1500 y 2700 (ambos incluidos)."
   ]
  },
  {
   "cell_type": "code",
   "execution_count": 40,
   "id": "22e5a901",
   "metadata": {},
   "outputs": [
    {
     "name": "stdout",
     "output_type": "stream",
     "text": [
      "[1505, 1540, 1575, 1610, 1645, 1680, 1715, 1750, 1785, 1820, 1855, 1890, 1925, 1960, 1995, 2030, 2065, 2100, 2135, 2170, 2205, 2240, 2275, 2310, 2345, 2380, 2415, 2450, 2485, 2520, 2555, 2590, 2625, 2660, 2695]\n"
     ]
    }
   ],
   "source": [
    "if 2700 > 1500:\n",
    "    resultado=[]\n",
    "    \n",
    "    for i in range(1500,2700,+1):\n",
    "        if (i % 7==0 and i % 5==0):\n",
    "            resultado.append(i)\n",
    "    \n",
    "print(resultado)\n",
    "\n"
   ]
  },
  {
   "cell_type": "markdown",
   "id": "6b4ff800",
   "metadata": {},
   "source": [
    "2.Escribe un programa en Python para adivinar un número entre 1 y 9.\n",
    "Nota: Se pide al usuario que introduzca un número. Si el usuario se equivoca, el mensaje aparecerá de nuevo hasta que la respuesta sea correcta. Si la respuesta es correcta, el usuario recibirá un mensaje de \"¡Bien adivinado!\" y el programa saldrá."
   ]
  },
  {
   "cell_type": "code",
   "execution_count": 50,
   "id": "70a4d791",
   "metadata": {},
   "outputs": [
    {
     "name": "stdout",
     "output_type": "stream",
     "text": [
      "Elegir un numero entre 1-9: 1\n",
      "Elegir un numero entre 1-9: 2\n",
      "Elegir un numero entre 1-9: 8\n",
      "¡Bien adivinado!\n"
     ]
    }
   ],
   "source": [
    "numero=8\n",
    "num_u=0\n",
    "while (num_u!=numero):\n",
    "    num_u=int(input(\"Elegir un numero entre 1-9: \"))\n",
    "        \n",
    "\n",
    "print(\"¡Bien adivinado!\")"
   ]
  },
  {
   "cell_type": "markdown",
   "id": "9bd31ae5",
   "metadata": {},
   "source": [
    "3.Escribe un programa en Python para construir el siguiente patrón, utilizando un bucle for anidado."
   ]
  },
  {
   "cell_type": "code",
   "execution_count": 67,
   "id": "19645031",
   "metadata": {},
   "outputs": [
    {
     "name": "stdout",
     "output_type": "stream",
     "text": [
      "* \n",
      "* * \n",
      "* * * \n",
      "* * * * \n",
      "* * * * * \n",
      "* * * *  \n",
      "* * *  \n",
      "* *  \n",
      "*  \n"
     ]
    }
   ],
   "source": [
    "n=5\n",
    "\n",
    "for i in range(1,n+1):\n",
    "    for j in range(1,i+1):\n",
    "        print(\"*\", end=\" \")\n",
    "    print(\"\")\n",
    "    \n",
    "for i in range(n-1,0,-1):\n",
    "    for j in range(1,i+1):\n",
    "        print(\"*\",end=\" \")\n",
    "    print(\" \")"
   ]
  },
  {
   "cell_type": "markdown",
   "id": "c603557b",
   "metadata": {},
   "source": [
    "4.Escribe un programa en Python que cuente el número de números pares e impares de una serie de números.\n",
    "Números de ejemplo : números = (1, 2, 3, 4, 5, 6, 7, 8, 9) Salida esperada : Número de números pares : 5 Número de números impares : 4"
   ]
  },
  {
   "cell_type": "code",
   "execution_count": 69,
   "id": "5defeb07",
   "metadata": {},
   "outputs": [
    {
     "name": "stdout",
     "output_type": "stream",
     "text": [
      "Numero de pares es:  4\n",
      "Numero de impares es:  5\n"
     ]
    }
   ],
   "source": [
    "cp=0\n",
    "ci=0\n",
    "numeros = [1, 2, 3, 4, 5, 6, 7, 8, 9]\n",
    "for n in numeros:\n",
    "    if(n%2==0):\n",
    "        cp+=1\n",
    "    else:\n",
    "        ci+=1\n",
    "\n",
    "print(\"Numero de pares es: \",cp)\n",
    "print(\"Numero de impares es: \",ci)"
   ]
  },
  {
   "cell_type": "markdown",
   "id": "174705d7",
   "metadata": {},
   "source": [
    "5.Escribe un programa en Python que imprima cada elemento y su tipo correspondiente de la siguiente lista.\n",
    "Lista de ejemplo : datalist = [1452, 11.23, 1+2j, True, 'abc', (0, -1), [5, 12], {\"class\":'V', \"section\":'A'}]"
   ]
  },
  {
   "cell_type": "code",
   "execution_count": 72,
   "id": "db98a127",
   "metadata": {},
   "outputs": [
    {
     "name": "stdout",
     "output_type": "stream",
     "text": [
      "El dato  1452  es  <class 'int'>\n",
      "El dato  11.23  es  <class 'float'>\n",
      "El dato  (1+2j)  es  <class 'complex'>\n",
      "El dato  True  es  <class 'bool'>\n",
      "El dato  abc  es  <class 'str'>\n",
      "El dato  (0, -1)  es  <class 'tuple'>\n",
      "El dato  [5, 12]  es  <class 'list'>\n",
      "El dato  {'class': 'V', 'section': 'A'}  es  <class 'dict'>\n"
     ]
    }
   ],
   "source": [
    "datalist = [1452, 11.23, 1+2j, True, 'abc', (0, -1), [5, 12], {\"class\":'V', \"section\":'A'}]\n",
    "for d in datalist:\n",
    "    print(\"El dato \",d,\" es \",type(d))"
   ]
  },
  {
   "cell_type": "markdown",
   "id": "0aca5da3",
   "metadata": {},
   "source": [
    "6.Escribe un programa en Python que obtenga la serie de Fibonacci entre 0 y 50."
   ]
  },
  {
   "cell_type": "code",
   "execution_count": 78,
   "id": "c259bcc8",
   "metadata": {},
   "outputs": [
    {
     "name": "stdout",
     "output_type": "stream",
     "text": [
      "0\n",
      "1\n",
      "1\n",
      "2\n",
      "3\n",
      "5\n",
      "8\n",
      "13\n",
      "21\n",
      "34\n"
     ]
    }
   ],
   "source": [
    "from math import sqrt\n",
    "def F(n):\n",
    "    return ((1+sqrt(5))**n-(1-sqrt(5))**n)/(2**n*sqrt(5))\n",
    "\n",
    "def Fibonacci(numero_menor, numero_mayor):\n",
    "    n = 0\n",
    "    cur = F(n)\n",
    "    while cur <= numero_mayor:\n",
    "        if numero_menor <= cur:\n",
    "            print(round(cur))\n",
    "        n += 1\n",
    "        cur = F(n)\n",
    "Fibonacci(0,50)\n"
   ]
  },
  {
   "cell_type": "markdown",
   "id": "f041f7c5",
   "metadata": {},
   "source": [
    "# TALLER 2.1"
   ]
  },
  {
   "cell_type": "markdown",
   "id": "b419fb46",
   "metadata": {},
   "source": [
    "1.Escribe una función en Python para calcular el factorial de un número (un entero no negativo). La función acepta el número como argumento.\n",
    "La función factorial es una fórmula matemática representada por el signo de exclamación \"!\". En la fórmula Factorial se deben multiplicar todos los números enteros y positivos que hay entre el número que aparece en la fórmula y el número 1."
   ]
  },
  {
   "cell_type": "code",
   "execution_count": 129,
   "id": "ce3263af",
   "metadata": {},
   "outputs": [
    {
     "name": "stdout",
     "output_type": "stream",
     "text": [
      "120\n"
     ]
    }
   ],
   "source": [
    "def factorial(n):\n",
    "    if n==0 or n==1:\n",
    "            resultado=1\n",
    "    elif n>1:\n",
    "            resultado=n*factorial(n-1)\n",
    "    return resultado\n",
    "\n",
    "\n",
    "factor=factorial(5)\n",
    "\n",
    "print(factor)\n"
   ]
  },
  {
   "cell_type": "markdown",
   "id": "ea1f3cb5",
   "metadata": {},
   "source": [
    "2.Escribe una función de Python para comprobar si un número cae en un rango dado."
   ]
  },
  {
   "cell_type": "code",
   "execution_count": 138,
   "id": "1769f4a9",
   "metadata": {},
   "outputs": [
    {
     "name": "stdout",
     "output_type": "stream",
     "text": [
      "Digite R1: 100\n",
      "Digite R2: 150\n",
      "Digite el numero a localizar: 151\n"
     ]
    },
    {
     "data": {
      "text/plain": [
       "'No esta en rango'"
      ]
     },
     "execution_count": 138,
     "metadata": {},
     "output_type": "execute_result"
    }
   ],
   "source": [
    "def rango(r1,r2,n):\n",
    "    if (r1<n<r2):\n",
    "            f=\"Esta en rango\"\n",
    "    else:\n",
    "            f=\"No esta en rango\"\n",
    "    return f\n",
    "\n",
    "r1=int(input(\"Digite R1: \"))\n",
    "r2=int(input(\"Digite R2: \"))\n",
    "n=int(input(\"Digite el numero a localizar: \"))\n",
    "rango(r1,r2,n)"
   ]
  },
  {
   "cell_type": "markdown",
   "id": "5612aec2",
   "metadata": {},
   "source": [
    "3.Escribe una función Python que acepte una cadena y calcule el número de letras mayúsculas y minúsculas."
   ]
  },
  {
   "cell_type": "code",
   "execution_count": 140,
   "id": "b4b19256",
   "metadata": {},
   "outputs": [
    {
     "name": "stdout",
     "output_type": "stream",
     "text": [
      "{'Minusculas': 25, 'Mayusculas': 3}\n"
     ]
    }
   ],
   "source": [
    "def cont_mayus_minus(cadena):\n",
    "    cont={'Minusculas':0,'Mayusculas':0}\n",
    "    \n",
    "    for c in cadena:\n",
    "        if c.isupper():\n",
    "            cont['Mayusculas']+=1\n",
    "        elif c.islower():\n",
    "            cont['Minusculas']+=1\n",
    "    return cont\n",
    "\n",
    "cadena=\"Hola profesor de Dell Technology\"\n",
    "\n",
    "print(cont_mayus_minus(cadena))"
   ]
  },
  {
   "cell_type": "markdown",
   "id": "8b30ad5d",
   "metadata": {},
   "source": [
    "# TALLER 2.2"
   ]
  },
  {
   "cell_type": "markdown",
   "id": "b1434ab1",
   "metadata": {},
   "source": [
    "1.Write a Python class named Student with two attributes student_name, marks. Modify the attribute values of the said class and print the original and modified values of the said attributes."
   ]
  },
  {
   "cell_type": "code",
   "execution_count": 145,
   "id": "777f3064",
   "metadata": {},
   "outputs": [
    {
     "name": "stdout",
     "output_type": "stream",
     "text": [
      "Nombre del estudiante: Luis Castillo\n",
      "Marcas: 93\n",
      "Nombre del estudiante: Juan Gonzalez\n",
      "Marcas: 95\n"
     ]
    }
   ],
   "source": [
    "class Estudiante:\n",
    "    nombre_estudiante = 'Luis Castillo'\n",
    "    marcas = 93  \n",
    "print(f\"Nombre del estudiante: {getattr(Estudiante, 'nombre_estudiante')}\")\n",
    "print(f\"Marcas: {getattr(Estudiante, 'marcas')}\")\n",
    "setattr(Estudiante, 'nombre_estudiante', 'Juan Gonzalez')\n",
    "setattr(Estudiante, 'marcas', 95) \n",
    "print(f\"Nombre del estudiante: {getattr(Estudiante, 'nombre_estudiante')}\")\n",
    "print(f\"Marcas: {getattr(Estudiante, 'marcas')}\")"
   ]
  }
 ],
 "metadata": {
  "kernelspec": {
   "display_name": "Python 3 (ipykernel)",
   "language": "python",
   "name": "python3"
  },
  "language_info": {
   "codemirror_mode": {
    "name": "ipython",
    "version": 3
   },
   "file_extension": ".py",
   "mimetype": "text/x-python",
   "name": "python",
   "nbconvert_exporter": "python",
   "pygments_lexer": "ipython3",
   "version": "3.9.12"
  }
 },
 "nbformat": 4,
 "nbformat_minor": 5
}
